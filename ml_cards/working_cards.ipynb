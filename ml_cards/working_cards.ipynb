{
  "nbformat": 4,
  "nbformat_minor": 0,
  "metadata": {
    "colab": {
      "provenance": [],
      "gpuType": "T4"
    },
    "kernelspec": {
      "name": "python3",
      "display_name": "Python 3"
    },
    "language_info": {
      "name": "python"
    },
    "accelerator": "GPU"
  },
  "cells": [
    {
      "cell_type": "code",
      "execution_count": 1,
      "metadata": {
        "colab": {
          "base_uri": "https://localhost:8080/",
          "height": 76
        },
        "id": "gKEwuq5gQuJR",
        "outputId": "d2376f30-7fae-42b1-eca8-09923a7f5108"
      },
      "outputs": [
        {
          "output_type": "display_data",
          "data": {
            "text/plain": [
              "<IPython.core.display.HTML object>"
            ],
            "text/html": [
              "\n",
              "     <input type=\"file\" id=\"files-11a65abc-376a-401f-9e7c-47355dd8ff79\" name=\"files[]\" multiple disabled\n",
              "        style=\"border:none\" />\n",
              "     <output id=\"result-11a65abc-376a-401f-9e7c-47355dd8ff79\">\n",
              "      Upload widget is only available when the cell has been executed in the\n",
              "      current browser session. Please rerun this cell to enable.\n",
              "      </output>\n",
              "      <script>// Copyright 2017 Google LLC\n",
              "//\n",
              "// Licensed under the Apache License, Version 2.0 (the \"License\");\n",
              "// you may not use this file except in compliance with the License.\n",
              "// You may obtain a copy of the License at\n",
              "//\n",
              "//      http://www.apache.org/licenses/LICENSE-2.0\n",
              "//\n",
              "// Unless required by applicable law or agreed to in writing, software\n",
              "// distributed under the License is distributed on an \"AS IS\" BASIS,\n",
              "// WITHOUT WARRANTIES OR CONDITIONS OF ANY KIND, either express or implied.\n",
              "// See the License for the specific language governing permissions and\n",
              "// limitations under the License.\n",
              "\n",
              "/**\n",
              " * @fileoverview Helpers for google.colab Python module.\n",
              " */\n",
              "(function(scope) {\n",
              "function span(text, styleAttributes = {}) {\n",
              "  const element = document.createElement('span');\n",
              "  element.textContent = text;\n",
              "  for (const key of Object.keys(styleAttributes)) {\n",
              "    element.style[key] = styleAttributes[key];\n",
              "  }\n",
              "  return element;\n",
              "}\n",
              "\n",
              "// Max number of bytes which will be uploaded at a time.\n",
              "const MAX_PAYLOAD_SIZE = 100 * 1024;\n",
              "\n",
              "function _uploadFiles(inputId, outputId) {\n",
              "  const steps = uploadFilesStep(inputId, outputId);\n",
              "  const outputElement = document.getElementById(outputId);\n",
              "  // Cache steps on the outputElement to make it available for the next call\n",
              "  // to uploadFilesContinue from Python.\n",
              "  outputElement.steps = steps;\n",
              "\n",
              "  return _uploadFilesContinue(outputId);\n",
              "}\n",
              "\n",
              "// This is roughly an async generator (not supported in the browser yet),\n",
              "// where there are multiple asynchronous steps and the Python side is going\n",
              "// to poll for completion of each step.\n",
              "// This uses a Promise to block the python side on completion of each step,\n",
              "// then passes the result of the previous step as the input to the next step.\n",
              "function _uploadFilesContinue(outputId) {\n",
              "  const outputElement = document.getElementById(outputId);\n",
              "  const steps = outputElement.steps;\n",
              "\n",
              "  const next = steps.next(outputElement.lastPromiseValue);\n",
              "  return Promise.resolve(next.value.promise).then((value) => {\n",
              "    // Cache the last promise value to make it available to the next\n",
              "    // step of the generator.\n",
              "    outputElement.lastPromiseValue = value;\n",
              "    return next.value.response;\n",
              "  });\n",
              "}\n",
              "\n",
              "/**\n",
              " * Generator function which is called between each async step of the upload\n",
              " * process.\n",
              " * @param {string} inputId Element ID of the input file picker element.\n",
              " * @param {string} outputId Element ID of the output display.\n",
              " * @return {!Iterable<!Object>} Iterable of next steps.\n",
              " */\n",
              "function* uploadFilesStep(inputId, outputId) {\n",
              "  const inputElement = document.getElementById(inputId);\n",
              "  inputElement.disabled = false;\n",
              "\n",
              "  const outputElement = document.getElementById(outputId);\n",
              "  outputElement.innerHTML = '';\n",
              "\n",
              "  const pickedPromise = new Promise((resolve) => {\n",
              "    inputElement.addEventListener('change', (e) => {\n",
              "      resolve(e.target.files);\n",
              "    });\n",
              "  });\n",
              "\n",
              "  const cancel = document.createElement('button');\n",
              "  inputElement.parentElement.appendChild(cancel);\n",
              "  cancel.textContent = 'Cancel upload';\n",
              "  const cancelPromise = new Promise((resolve) => {\n",
              "    cancel.onclick = () => {\n",
              "      resolve(null);\n",
              "    };\n",
              "  });\n",
              "\n",
              "  // Wait for the user to pick the files.\n",
              "  const files = yield {\n",
              "    promise: Promise.race([pickedPromise, cancelPromise]),\n",
              "    response: {\n",
              "      action: 'starting',\n",
              "    }\n",
              "  };\n",
              "\n",
              "  cancel.remove();\n",
              "\n",
              "  // Disable the input element since further picks are not allowed.\n",
              "  inputElement.disabled = true;\n",
              "\n",
              "  if (!files) {\n",
              "    return {\n",
              "      response: {\n",
              "        action: 'complete',\n",
              "      }\n",
              "    };\n",
              "  }\n",
              "\n",
              "  for (const file of files) {\n",
              "    const li = document.createElement('li');\n",
              "    li.append(span(file.name, {fontWeight: 'bold'}));\n",
              "    li.append(span(\n",
              "        `(${file.type || 'n/a'}) - ${file.size} bytes, ` +\n",
              "        `last modified: ${\n",
              "            file.lastModifiedDate ? file.lastModifiedDate.toLocaleDateString() :\n",
              "                                    'n/a'} - `));\n",
              "    const percent = span('0% done');\n",
              "    li.appendChild(percent);\n",
              "\n",
              "    outputElement.appendChild(li);\n",
              "\n",
              "    const fileDataPromise = new Promise((resolve) => {\n",
              "      const reader = new FileReader();\n",
              "      reader.onload = (e) => {\n",
              "        resolve(e.target.result);\n",
              "      };\n",
              "      reader.readAsArrayBuffer(file);\n",
              "    });\n",
              "    // Wait for the data to be ready.\n",
              "    let fileData = yield {\n",
              "      promise: fileDataPromise,\n",
              "      response: {\n",
              "        action: 'continue',\n",
              "      }\n",
              "    };\n",
              "\n",
              "    // Use a chunked sending to avoid message size limits. See b/62115660.\n",
              "    let position = 0;\n",
              "    do {\n",
              "      const length = Math.min(fileData.byteLength - position, MAX_PAYLOAD_SIZE);\n",
              "      const chunk = new Uint8Array(fileData, position, length);\n",
              "      position += length;\n",
              "\n",
              "      const base64 = btoa(String.fromCharCode.apply(null, chunk));\n",
              "      yield {\n",
              "        response: {\n",
              "          action: 'append',\n",
              "          file: file.name,\n",
              "          data: base64,\n",
              "        },\n",
              "      };\n",
              "\n",
              "      let percentDone = fileData.byteLength === 0 ?\n",
              "          100 :\n",
              "          Math.round((position / fileData.byteLength) * 100);\n",
              "      percent.textContent = `${percentDone}% done`;\n",
              "\n",
              "    } while (position < fileData.byteLength);\n",
              "  }\n",
              "\n",
              "  // All done.\n",
              "  yield {\n",
              "    response: {\n",
              "      action: 'complete',\n",
              "    }\n",
              "  };\n",
              "}\n",
              "\n",
              "scope.google = scope.google || {};\n",
              "scope.google.colab = scope.google.colab || {};\n",
              "scope.google.colab._files = {\n",
              "  _uploadFiles,\n",
              "  _uploadFilesContinue,\n",
              "};\n",
              "})(self);\n",
              "</script> "
            ]
          },
          "metadata": {}
        },
        {
          "output_type": "stream",
          "name": "stdout",
          "text": [
            "Saving ml.zip to ml.zip\n"
          ]
        }
      ],
      "source": [
        "from google.colab import files\n",
        "uploaded_files = files.upload()"
      ]
    },
    {
      "cell_type": "code",
      "source": [
        "import zipfile\n",
        "import os\n",
        "\n",
        "zip_file_name = next(iter(uploaded_files))\n",
        "with zipfile.ZipFile(zip_file_name, 'r') as zip_ref:\n",
        "    zip_ref.extractall()\n",
        "    print(f\"Extracted to {os.getcwd()}\")"
      ],
      "metadata": {
        "colab": {
          "base_uri": "https://localhost:8080/"
        },
        "id": "HFuEjbyNQvV-",
        "outputId": "3b0ca03f-8143-46db-9677-b291a349e022"
      },
      "execution_count": 2,
      "outputs": [
        {
          "output_type": "stream",
          "name": "stdout",
          "text": [
            "Extracted to /content\n"
          ]
        }
      ]
    },
    {
      "cell_type": "code",
      "source": [
        "!ls data"
      ],
      "metadata": {
        "colab": {
          "base_uri": "https://localhost:8080/"
        },
        "id": "cm5c3GeWQ-bs",
        "outputId": "8359c4fc-e37d-4956-cb99-f7a2f01b82e1"
      },
      "execution_count": 3,
      "outputs": [
        {
          "output_type": "stream",
          "name": "stdout",
          "text": [
            "test  train\n"
          ]
        }
      ]
    },
    {
      "cell_type": "code",
      "source": [
        "!ls data/train/cards"
      ],
      "metadata": {
        "colab": {
          "base_uri": "https://localhost:8080/"
        },
        "id": "HhJOgCilRYbh",
        "outputId": "43faace2-9065-4956-e067-5d1632838be3"
      },
      "execution_count": 5,
      "outputs": [
        {
          "output_type": "stream",
          "name": "stdout",
          "text": [
            "2024-03-08-09-53-56_2.png   2024-03-12-18-48-34_13.png\t2024-03-12-19-05-48_14.png\n",
            "2024-03-08-09-53-56_5.png   2024-03-12-18-48-34_14.png\t2024-03-12-19-05-48_2.png\n",
            "2024-03-08-09-54-37_1.png   2024-03-12-18-48-34_3.png\t2024-03-12-19-05-48_3.png\n",
            "2024-03-08-09-54-37_2.png   2024-03-12-18-48-34_4.png\t2024-03-12-19-05-48_4.png\n",
            "2024-03-08-09-54-37_4.png   2024-03-12-18-48-34_5.png\t2024-03-12-19-05-48_7.png\n",
            "2024-03-08-09-54-37_5.png   2024-03-12-18-48-34_8.png\t2024-03-12-19-06-47_10.png\n",
            "2024-03-08-09-55-13_2.png   2024-03-12-18-48-34_9.png\t2024-03-12-19-06-47_11.png\n",
            "2024-03-08-09-55-13_5.png   2024-03-12-18-49-36_10.png\t2024-03-12-19-06-47_12.png\n",
            "2024-03-08-09-55-42_1.png   2024-03-12-18-49-36_11.png\t2024-03-12-19-06-47_13.png\n",
            "2024-03-08-09-55-42_2.png   2024-03-12-18-49-36_12.png\t2024-03-12-19-06-47_14.png\n",
            "2024-03-08-09-55-42_4.png   2024-03-12-18-49-36_13.png\t2024-03-12-19-06-47_1.png\n",
            "2024-03-08-09-55-42_5.png   2024-03-12-18-49-36_14.png\t2024-03-12-19-06-47_3.png\n",
            "2024-03-08-09-55-42_6.png   2024-03-12-18-49-36_5.png\t2024-03-12-19-06-47_4.png\n",
            "2024-03-08-09-55-42_7.png   2024-03-12-18-49-36_6.png\t2024-03-12-19-06-47_7.png\n",
            "2024-03-12-18-04-38_1.png   2024-03-12-18-49-36_7.png\t2024-03-12-19-06-47_8.png\n",
            "2024-03-12-18-05-15_3.png   2024-03-12-18-49-36_9.png\t2024-03-12-19-06-47_9.png\n",
            "2024-03-12-18-05-15_7.png   2024-03-12-18-50-43_10.png\t2024-03-12-19-07-24_10.png\n",
            "2024-03-12-18-05-46_1.png   2024-03-12-18-50-43_12.png\t2024-03-12-19-07-24_15.png\n",
            "2024-03-12-18-05-46_2.png   2024-03-12-18-50-43_13.png\t2024-03-12-19-07-24_17.png\n",
            "2024-03-12-18-05-46_3.png   2024-03-12-18-50-43_14.png\t2024-03-12-19-07-24_3.png\n",
            "2024-03-12-18-05-46_4.png   2024-03-12-18-50-43_1.png\t2024-03-12-19-07-24_4.png\n",
            "2024-03-12-18-06-17_1.png   2024-03-12-18-50-43_2.png\t2024-03-12-19-07-24_9.png\n",
            "2024-03-12-18-06-17_2.png   2024-03-12-18-50-43_6.png\t2024-03-12-19-08-07_10.png\n",
            "2024-03-12-18-06-17_3.png   2024-03-12-18-50-43_7.png\t2024-03-12-19-08-07_11.png\n",
            "2024-03-12-18-06-17_4.png   2024-03-12-18-50-43_8.png\t2024-03-12-19-08-07_12.png\n",
            "2024-03-12-18-06-17_6.png   2024-03-12-18-50-43_9.png\t2024-03-12-19-08-07_13.png\n",
            "2024-03-12-18-06-17_7.png   2024-03-12-18-51-24_10.png\t2024-03-12-19-08-07_14.png\n",
            "2024-03-12-18-14-07_10.png  2024-03-12-18-51-24_15.png\t2024-03-12-19-08-07_2.png\n",
            "2024-03-12-18-14-07_11.png  2024-03-12-18-51-24_16.png\t2024-03-12-19-08-07_7.png\n",
            "2024-03-12-18-14-07_12.png  2024-03-12-18-51-24_5.png\t2024-03-12-19-08-07_9.png\n",
            "2024-03-12-18-14-07_13.png  2024-03-12-18-51-24_9.png\t2024-03-12-19-09-00_10.png\n",
            "2024-03-12-18-14-07_14.png  2024-03-12-18-52-18_17.png\t2024-03-12-19-09-00_11.png\n",
            "2024-03-12-18-14-07_1.png   2024-03-12-18-52-18_18.png\t2024-03-12-19-09-00_12.png\n",
            "2024-03-12-18-14-07_4.png   2024-03-12-18-52-18_19.png\t2024-03-12-19-09-00_13.png\n",
            "2024-03-12-18-14-07_9.png   2024-03-12-18-52-18_1.png\t2024-03-12-19-09-00_14.png\n",
            "2024-03-12-18-14-36_10.png  2024-03-12-18-52-18_6.png\t2024-03-12-19-09-00_2.png\n",
            "2024-03-12-18-14-36_11.png  2024-03-12-18-54-44_15.png\t2024-03-12-19-09-00_3.png\n",
            "2024-03-12-18-14-36_12.png  2024-03-12-18-54-44_16.png\t2024-03-12-19-09-00_4.png\n",
            "2024-03-12-18-14-36_14.png  2024-03-12-18-54-44_18.png\t2024-03-12-19-09-00_7.png\n",
            "2024-03-12-18-14-36_5.png   2024-03-12-18-54-44_19.png\t2024-03-12-19-09-00_8.png\n",
            "2024-03-12-18-14-36_6.png   2024-03-12-18-54-44_1.png\t2024-03-12-19-09-00_9.png\n",
            "2024-03-12-18-15-09_10.png  2024-03-12-18-54-44_5.png\t2024-03-12-19-09-37_10.png\n",
            "2024-03-12-18-15-09_11.png  2024-03-12-18-55-29_10.png\t2024-03-12-19-09-37_11.png\n",
            "2024-03-12-18-15-09_12.png  2024-03-12-18-55-29_11.png\t2024-03-12-19-09-37_12.png\n",
            "2024-03-12-18-15-09_3.png   2024-03-12-18-55-29_12.png\t2024-03-12-19-09-37_13.png\n",
            "2024-03-12-18-15-09_4.png   2024-03-12-18-55-29_13.png\t2024-03-12-19-09-37_1.png\n",
            "2024-03-12-18-15-09_8.png   2024-03-12-18-55-29_14.png\t2024-03-12-19-09-37_2.png\n",
            "2024-03-12-18-15-38_10.png  2024-03-12-18-55-29_1.png\t2024-03-12-19-09-37_3.png\n",
            "2024-03-12-18-15-38_12.png  2024-03-12-18-55-29_2.png\t2024-03-12-19-09-37_8.png\n",
            "2024-03-12-18-15-38_9.png   2024-03-12-18-55-29_5.png\t2024-03-12-19-10-35_11.png\n",
            "2024-03-12-18-17-31_13.png  2024-03-12-18-55-29_6.png\t2024-03-12-19-10-35_12.png\n",
            "2024-03-12-18-17-31_14.png  2024-03-12-18-55-29_9.png\t2024-03-12-19-10-35_15.png\n",
            "2024-03-12-18-17-31_1.png   2024-03-12-18-56-10_11.png\t2024-03-12-19-10-35_16.png\n",
            "2024-03-12-18-17-31_2.png   2024-03-12-18-56-10_1.png\t2024-03-12-19-10-35_7.png\n",
            "2024-03-12-18-17-31_4.png   2024-03-12-18-56-10_2.png\t2024-03-12-19-10-35_8.png\n",
            "2024-03-12-18-17-31_9.png   2024-03-12-18-56-10_6.png\t2024-03-12-19-11-10_11.png\n",
            "2024-03-12-18-19-24_10.png  2024-03-12-18-56-10_9.png\t2024-03-12-19-11-10_12.png\n",
            "2024-03-12-18-19-24_11.png  2024-03-12-18-57-19_10.png\t2024-03-12-19-11-10_15.png\n",
            "2024-03-12-18-19-24_13.png  2024-03-12-18-57-19_12.png\t2024-03-12-19-11-10_16.png\n",
            "2024-03-12-18-19-24_14.png  2024-03-12-18-57-19_15.png\t2024-03-12-19-11-10_18.png\n",
            "2024-03-12-18-19-24_1.png   2024-03-12-18-57-19_16.png\t2024-03-12-19-11-10_7.png\n",
            "2024-03-12-18-19-24_2.png   2024-03-12-18-57-19_1.png\t2024-03-12-19-11-10_8.png\n",
            "2024-03-12-18-19-24_3.png   2024-03-12-18-57-19_2.png\t2024-03-12-19-11-43_15.png\n",
            "2024-03-12-18-19-24_4.png   2024-03-12-18-57-19_9.png\t2024-03-12-19-11-43_19.png\n",
            "2024-03-12-18-19-24_5.png   2024-03-12-18-57-47_10.png\t2024-03-12-19-11-43_7.png\n",
            "2024-03-12-18-19-24_7.png   2024-03-12-18-57-47_11.png\t2024-03-12-19-12-16_15.png\n",
            "2024-03-12-18-19-24_8.png   2024-03-12-18-57-47_12.png\t2024-03-12-19-12-16_17.png\n",
            "2024-03-12-18-39-41_13.png  2024-03-12-18-57-47_15.png\t2024-03-12-19-12-16_18.png\n",
            "2024-03-12-18-39-41_16.png  2024-03-12-18-57-47_16.png\t2024-03-12-19-12-16_19.png\n",
            "2024-03-12-18-39-41_17.png  2024-03-12-18-57-47_17.png\t2024-03-12-19-12-16_7.png\n",
            "2024-03-12-18-39-41_18.png  2024-03-12-18-57-47_18.png\t2024-03-12-19-12-16_8.png\n",
            "2024-03-12-18-39-41_1.png   2024-03-12-18-57-47_1.png\t2024-03-12-19-12-47_11.png\n",
            "2024-03-12-18-39-41_2.png   2024-03-12-18-57-47_9.png\t2024-03-12-19-12-47_12.png\n",
            "2024-03-12-18-41-23_10.png  2024-03-12-18-58-30_10.png\t2024-03-12-19-12-47_13.png\n",
            "2024-03-12-18-41-23_11.png  2024-03-12-18-58-30_11.png\t2024-03-12-19-12-47_14.png\n",
            "2024-03-12-18-41-23_12.png  2024-03-12-18-58-30_15.png\t2024-03-12-19-12-47_1.png\n",
            "2024-03-12-18-41-23_13.png  2024-03-12-18-58-30_16.png\t2024-03-12-19-12-47_2.png\n",
            "2024-03-12-18-41-23_14.png  2024-03-12-18-58-30_18.png\t2024-03-12-19-12-47_3.png\n",
            "2024-03-12-18-41-23_1.png   2024-03-12-18-58-30_9.png\t2024-03-12-19-12-47_8.png\n",
            "2024-03-12-18-41-23_2.png   2024-03-12-18-59-25_10.png\t2024-03-12-19-12-47_9.png\n",
            "2024-03-12-18-41-23_3.png   2024-03-12-18-59-25_11.png\t2024-03-12-19-13-49_10.png\n",
            "2024-03-12-18-41-23_5.png   2024-03-12-18-59-25_12.png\t2024-03-12-19-13-49_15.png\n",
            "2024-03-12-18-41-23_6.png   2024-03-12-18-59-25_14.png\t2024-03-12-19-13-49_16.png\n",
            "2024-03-12-18-41-23_9.png   2024-03-12-18-59-25_1.png\t2024-03-12-19-13-49_3.png\n",
            "2024-03-12-18-42-12_10.png  2024-03-12-18-59-25_2.png\t2024-03-12-19-13-49_4.png\n",
            "2024-03-12-18-42-12_15.png  2024-03-12-18-59-25_9.png\t2024-03-12-19-13-49_9.png\n",
            "2024-03-12-18-42-12_16.png  2024-03-12-18-59-56_10.png\t2024-03-12-19-14-49_10.png\n",
            "2024-03-12-18-42-12_17.png  2024-03-12-18-59-56_11.png\t2024-03-12-19-14-49_11.png\n",
            "2024-03-12-18-42-12_4.png   2024-03-12-18-59-56_15.png\t2024-03-12-19-14-49_13.png\n",
            "2024-03-12-18-42-12_9.png   2024-03-12-18-59-56_16.png\t2024-03-12-19-14-49_14.png\n",
            "2024-03-12-18-43-26_10.png  2024-03-12-18-59-56_17.png\t2024-03-12-19-14-49_1.png\n",
            "2024-03-12-18-43-26_12.png  2024-03-12-18-59-56_9.png\t2024-03-12-19-14-49_2.png\n",
            "2024-03-12-18-43-26_13.png  2024-03-12-19-00-31_10.png\t2024-03-12-19-14-49_3.png\n",
            "2024-03-12-18-43-26_1.png   2024-03-12-19-00-31_11.png\t2024-03-12-19-14-49_4.png\n",
            "2024-03-12-18-43-26_2.png   2024-03-12-19-00-31_12.png\t2024-03-12-19-14-49_7.png\n",
            "2024-03-12-18-43-26_3.png   2024-03-12-19-00-31_15.png\t2024-03-12-19-14-49_8.png\n",
            "2024-03-12-18-43-26_4.png   2024-03-12-19-00-31_17.png\t2024-03-12-19-14-49_9.png\n",
            "2024-03-12-18-43-26_5.png   2024-03-12-19-01-01_15.png\t2024-03-12-19-15-25_10.png\n",
            "2024-03-12-18-43-26_8.png   2024-03-12-19-01-01_16.png\t2024-03-12-19-15-25_17.png\n",
            "2024-03-12-18-43-26_9.png   2024-03-12-19-01-26_10.png\t2024-03-12-19-15-25_3.png\n",
            "2024-03-12-18-43-50_15.png  2024-03-12-19-01-26_12.png\t2024-03-12-19-15-25_4.png\n",
            "2024-03-12-18-43-50_16.png  2024-03-12-19-01-26_13.png\t2024-03-12-19-15-25_7.png\n",
            "2024-03-12-18-43-50_17.png  2024-03-12-19-01-26_14.png\t2024-03-12-19-15-25_8.png\n",
            "2024-03-12-18-43-50_2.png   2024-03-12-19-01-26_1.png\t2024-03-12-19-16-04_10.png\n",
            "2024-03-12-18-43-50_5.png   2024-03-12-19-01-26_2.png\t2024-03-12-19-16-04_15.png\n",
            "2024-03-12-18-43-50_6.png   2024-03-12-19-02-02_11.png\t2024-03-12-19-16-04_16.png\n",
            "2024-03-12-18-44-29_15.png  2024-03-12-19-02-02_12.png\t2024-03-12-19-16-04_17.png\n",
            "2024-03-12-18-44-29_16.png  2024-03-12-19-02-02_13.png\t2024-03-12-19-16-04_18.png\n",
            "2024-03-12-18-44-29_17.png  2024-03-12-19-02-02_14.png\t2024-03-12-19-16-04_3.png\n",
            "2024-03-12-18-44-29_18.png  2024-03-12-19-02-02_1.png\t2024-03-12-19-16-04_9.png\n",
            "2024-03-12-18-44-29_19.png  2024-03-12-19-02-02_2.png\t2024-03-12-19-16-37_10.png\n",
            "2024-03-12-18-44-29_1.png   2024-03-12-19-02-37_10.png\t2024-03-12-19-16-37_16.png\n",
            "2024-03-12-18-44-29_2.png   2024-03-12-19-02-37_12.png\t2024-03-12-19-16-37_17.png\n",
            "2024-03-12-18-44-29_5.png   2024-03-12-19-02-37_13.png\t2024-03-12-19-16-37_18.png\n",
            "2024-03-12-18-44-29_6.png   2024-03-12-19-02-37_14.png\t2024-03-12-19-16-37_19.png\n",
            "2024-03-12-18-45-35_11.png  2024-03-12-19-02-37_1.png\t2024-03-12-19-16-37_4.png\n",
            "2024-03-12-18-45-35_12.png  2024-03-12-19-02-37_2.png\t2024-03-12-19-16-37_9.png\n",
            "2024-03-12-18-45-35_13.png  2024-03-12-19-02-37_3.png\t2024-03-12-19-17-13_10.png\n",
            "2024-03-12-18-45-35_14.png  2024-03-12-19-02-37_9.png\t2024-03-12-19-17-13_12.png\n",
            "2024-03-12-18-45-35_1.png   2024-03-12-19-03-06_11.png\t2024-03-12-19-17-13_13.png\n",
            "2024-03-12-18-45-35_2.png   2024-03-12-19-03-06_15.png\t2024-03-12-19-17-13_2.png\n",
            "2024-03-12-18-45-35_3.png   2024-03-12-19-03-06_16.png\t2024-03-12-19-17-13_3.png\n",
            "2024-03-12-18-45-35_4.png   2024-03-12-19-03-06_17.png\t2024-03-12-19-17-13_4.png\n",
            "2024-03-12-18-45-35_5.png   2024-03-12-19-03-06_1.png\t2024-03-12-19-17-13_8.png\n",
            "2024-03-12-18-45-35_6.png   2024-03-12-19-03-06_3.png\t2024-03-12-19-17-13_9.png\n",
            "2024-03-12-18-45-35_7.png   2024-03-12-19-03-06_4.png\t2024-03-12-19-17-50_11.png\n",
            "2024-03-12-18-45-35_8.png   2024-03-12-19-03-43_15.png\t2024-03-12-19-17-50_12.png\n",
            "2024-03-12-18-45-35_9.png   2024-03-12-19-03-43_18.png\t2024-03-12-19-17-50_14.png\n",
            "2024-03-12-18-46-06_11.png  2024-03-12-19-03-43_1.png\t2024-03-12-19-17-50_1.png\n",
            "2024-03-12-18-46-06_12.png  2024-03-12-19-03-43_2.png\t2024-03-12-19-17-50_2.png\n",
            "2024-03-12-18-46-06_16.png  2024-03-12-19-03-43_4.png\t2024-03-12-19-17-50_3.png\n",
            "2024-03-12-18-46-06_17.png  2024-03-12-19-04-52_15.png\t2024-03-12-19-17-50_4.png\n",
            "2024-03-12-18-46-06_4.png   2024-03-12-19-04-52_17.png\t2024-03-12-19-17-50_7.png\n",
            "2024-03-12-18-46-06_5.png   2024-03-12-19-04-52_2.png\t2024-03-12-19-17-50_8.png\n",
            "2024-03-12-18-46-06_6.png   2024-03-12-19-05-21_11.png\t2024-03-12-19-19-23_10.png\n",
            "2024-03-12-18-47-08_11.png  2024-03-12-19-05-21_12.png\t2024-03-12-19-19-23_11.png\n",
            "2024-03-12-18-47-08_12.png  2024-03-12-19-05-21_13.png\t2024-03-12-19-19-23_12.png\n",
            "2024-03-12-18-47-08_15.png  2024-03-12-19-05-21_1.png\t2024-03-12-19-19-23_15.png\n",
            "2024-03-12-18-47-08_16.png  2024-03-12-19-05-21_3.png\t2024-03-12-19-19-23_17.png\n",
            "2024-03-12-18-47-08_17.png  2024-03-12-19-05-21_4.png\t2024-03-12-19-19-23_7.png\n",
            "2024-03-12-18-47-08_18.png  2024-03-12-19-05-21_7.png\tplayer_1.png\n",
            "2024-03-12-18-47-08_5.png   2024-03-12-19-05-48_11.png\tplayer_4.png\n",
            "2024-03-12-18-48-34_11.png  2024-03-12-19-05-48_12.png\tplayer_5.png\n",
            "2024-03-12-18-48-34_12.png  2024-03-12-19-05-48_13.png\tplayer_6.png\n"
          ]
        }
      ]
    },
    {
      "cell_type": "code",
      "source": [
        "import os\n",
        "\n",
        "for dirpath, dirnames, filenames in os.walk(\"data\"):\n",
        "  print(f\"There are {len(dirnames)} directories and {len(filenames)} images in '{dirpath}'.\")"
      ],
      "metadata": {
        "colab": {
          "base_uri": "https://localhost:8080/"
        },
        "id": "OXBnF4JPRdVr",
        "outputId": "a149ec11-4f27-43bc-d1e3-d798ac6339b0"
      },
      "execution_count": 36,
      "outputs": [
        {
          "output_type": "stream",
          "name": "stdout",
          "text": [
            "There are 2 directories and 0 images in 'data'.\n",
            "There are 2 directories and 0 images in 'data/train'.\n",
            "There are 0 directories and 432 images in 'data/train/cards'.\n",
            "There are 0 directories and 459 images in 'data/train/no_cards'.\n",
            "There are 2 directories and 0 images in 'data/test'.\n",
            "There are 0 directories and 145 images in 'data/test/cards'.\n",
            "There are 0 directories and 154 images in 'data/test/no_cards'.\n"
          ]
        }
      ]
    },
    {
      "cell_type": "code",
      "source": [
        "import matplotlib.pyplot as plt\n",
        "import matplotlib.image as mpimg\n",
        "import random\n",
        "\n",
        "def view_random_image(target_dir, target_class):\n",
        "  target_folder = target_dir+target_class\n",
        "\n",
        "  random_image = random.sample(os.listdir(target_folder), 1)\n",
        "\n",
        "  img = mpimg.imread(target_folder + '/' + random_image[0])\n",
        "  plt.imshow(img)\n",
        "  plt.title(target_class)\n",
        "  plt.axis(\"off\");\n",
        "\n",
        "  print(f\"Image shape: {img.shape}\")\n",
        "\n",
        "  return img"
      ],
      "metadata": {
        "id": "HJga4KtPRkpY"
      },
      "execution_count": 37,
      "outputs": []
    },
    {
      "cell_type": "code",
      "source": [
        "view_random_image(\"data/train/\", \"no_cards\")"
      ],
      "metadata": {
        "colab": {
          "base_uri": "https://localhost:8080/",
          "height": 1000
        },
        "id": "EW2SuawbSFIh",
        "outputId": "592908a3-3628-44d8-8ec6-165ae98cb0a6"
      },
      "execution_count": 38,
      "outputs": [
        {
          "output_type": "stream",
          "name": "stdout",
          "text": [
            "Image shape: (86, 63, 3)\n"
          ]
        },
        {
          "output_type": "execute_result",
          "data": {
            "text/plain": [
              "array([[[0.1764706 , 0.16862746, 0.20392157],\n",
              "        [0.1764706 , 0.16862746, 0.20392157],\n",
              "        [0.1764706 , 0.16862746, 0.20392157],\n",
              "        ...,\n",
              "        [0.1764706 , 0.16862746, 0.20392157],\n",
              "        [0.1764706 , 0.16862746, 0.20392157],\n",
              "        [0.1764706 , 0.16862746, 0.20392157]],\n",
              "\n",
              "       [[0.1764706 , 0.16862746, 0.20392157],\n",
              "        [0.1764706 , 0.16862746, 0.20392157],\n",
              "        [0.1764706 , 0.16862746, 0.20392157],\n",
              "        ...,\n",
              "        [0.1764706 , 0.16862746, 0.20392157],\n",
              "        [0.1764706 , 0.16862746, 0.20392157],\n",
              "        [0.1764706 , 0.16862746, 0.20392157]],\n",
              "\n",
              "       [[0.1764706 , 0.16862746, 0.20392157],\n",
              "        [0.1764706 , 0.16862746, 0.20392157],\n",
              "        [0.1764706 , 0.16862746, 0.20392157],\n",
              "        ...,\n",
              "        [0.1764706 , 0.16862746, 0.20392157],\n",
              "        [0.1764706 , 0.16862746, 0.20392157],\n",
              "        [0.1764706 , 0.16862746, 0.20392157]],\n",
              "\n",
              "       ...,\n",
              "\n",
              "       [[0.40392157, 0.41960785, 0.4745098 ],\n",
              "        [0.40392157, 0.41960785, 0.4745098 ],\n",
              "        [0.40392157, 0.41960785, 0.4745098 ],\n",
              "        ...,\n",
              "        [0.1764706 , 0.16862746, 0.20392157],\n",
              "        [0.1764706 , 0.16862746, 0.20392157],\n",
              "        [0.1764706 , 0.16862746, 0.20392157]],\n",
              "\n",
              "       [[0.37254903, 0.3882353 , 0.44313726],\n",
              "        [0.37254903, 0.3882353 , 0.44313726],\n",
              "        [0.37254903, 0.3882353 , 0.44313726],\n",
              "        ...,\n",
              "        [0.16862746, 0.16078432, 0.19215687],\n",
              "        [0.16862746, 0.16078432, 0.19215687],\n",
              "        [0.16862746, 0.16078432, 0.19215687]],\n",
              "\n",
              "       [[0.37254903, 0.3882353 , 0.44313726],\n",
              "        [0.37254903, 0.3882353 , 0.44313726],\n",
              "        [0.37254903, 0.3882353 , 0.44313726],\n",
              "        ...,\n",
              "        [0.16862746, 0.16078432, 0.1882353 ],\n",
              "        [0.16862746, 0.16078432, 0.1882353 ],\n",
              "        [0.16862746, 0.16078432, 0.1882353 ]]], dtype=float32)"
            ]
          },
          "metadata": {},
          "execution_count": 38
        },
        {
          "output_type": "display_data",
          "data": {
            "text/plain": [
              "<Figure size 640x480 with 1 Axes>"
            ],
            "image/png": "[encoded data removed]"
          },
          "metadata": {}
        }
      ]
    },
    {
      "cell_type": "code",
      "source": [
        "import tensorflow as tf\n",
        "from tensorflow.keras.preprocessing.image import ImageDataGenerator\n",
        "\n",
        "tf.random.set_seed(42)\n",
        "\n",
        "train_datagen = ImageDataGenerator(1/255.)\n",
        "valid_datagen = ImageDataGenerator(1/255.)\n",
        "\n",
        "train_dir = \"data/train/\"\n",
        "test_dir = \"data/test/\"\n",
        "\n",
        "train_data = train_datagen.flow_from_directory(train_dir,\n",
        "                                               batch_size = 32,\n",
        "                                               target_size = (86, 63),\n",
        "                                               class_mode = 'binary',\n",
        "                                               seed=42)\n",
        "valid_data = train_datagen.flow_from_directory(test_dir,\n",
        "                                              batch_size = 32,\n",
        "                                              target_size = (86, 63),\n",
        "                                              class_mode = 'binary',\n",
        "                                              seed = 42)"
      ],
      "metadata": {
        "colab": {
          "base_uri": "https://localhost:8080/"
        },
        "id": "4qjvE8N4TTqm",
        "outputId": "200bf6e5-556d-45fe-dbef-783aacd06e38"
      },
      "execution_count": 39,
      "outputs": [
        {
          "output_type": "stream",
          "name": "stdout",
          "text": [
            "Found 891 images belonging to 2 classes.\n",
            "Found 299 images belonging to 2 classes.\n"
          ]
        }
      ]
    },
    {
      "cell_type": "code",
      "source": [
        "tf.random.set_seed(42)\n",
        "\n",
        "model_1 = tf.keras.Sequential([\n",
        "    tf.keras.layers.Flatten(input_shape = (86, 63, 3)),\n",
        "    tf.keras.layers.Dense(4, activation='relu'),\n",
        "    tf.keras.layers.Dense(4, activation='relu'),\n",
        "    tf.keras.layers.Dense(1, activation='sigmoid')\n",
        "])\n",
        "\n",
        "\n",
        "model_1.compile(loss = 'binary_crossentropy',\n",
        "                optimizer = tf.keras.optimizers.Adam(),\n",
        "                metrics = ['accuracy'])\n",
        "\n",
        "history_1 = model_1.fit(train_data,\n",
        "                        epochs = 5,\n",
        "                        steps_per_epoch = len(train_data),\n",
        "                        validation_data = valid_data,\n",
        "                        validation_steps = len(valid_data))"
      ],
      "metadata": {
        "colab": {
          "base_uri": "https://localhost:8080/"
        },
        "id": "-CzZWZE5SbCt",
        "outputId": "929d9e9f-6ca9-475a-e50e-a9eb329897d9"
      },
      "execution_count": 40,
      "outputs": [
        {
          "output_type": "stream",
          "name": "stdout",
          "text": [
            "Epoch 1/5\n"
          ]
        },
        {
          "output_type": "stream",
          "name": "stderr",
          "text": [
            "/usr/local/lib/python3.10/dist-packages/keras/src/preprocessing/image.py:1862: UserWarning: This ImageDataGenerator specifies `featurewise_center`, but it hasn't been fit on any training data. Fit it first by calling `.fit(numpy_data)`.\n",
            "  warnings.warn(\n"
          ]
        },
        {
          "output_type": "stream",
          "name": "stdout",
          "text": [
            "28/28 [==============================] - 2s 29ms/step - loss: 2.1121 - accuracy: 0.4871 - val_loss: 0.6932 - val_accuracy: 0.4849\n",
            "Epoch 2/5\n",
            "28/28 [==============================] - 1s 23ms/step - loss: 0.6932 - accuracy: 0.4848 - val_loss: 0.6931 - val_accuracy: 0.5151\n",
            "Epoch 3/5\n",
            "28/28 [==============================] - 1s 25ms/step - loss: 0.6932 - accuracy: 0.5152 - val_loss: 0.6931 - val_accuracy: 0.5151\n",
            "Epoch 4/5\n",
            "28/28 [==============================] - 1s 24ms/step - loss: 0.6931 - accuracy: 0.5152 - val_loss: 0.6930 - val_accuracy: 0.5151\n",
            "Epoch 5/5\n",
            "28/28 [==============================] - 1s 23ms/step - loss: 0.6930 - accuracy: 0.5152 - val_loss: 0.6930 - val_accuracy: 0.5151\n"
          ]
        }
      ]
    },
    {
      "cell_type": "code",
      "source": [
        "model_1.summary()"
      ],
      "metadata": {
        "colab": {
          "base_uri": "https://localhost:8080/"
        },
        "id": "cxz2ObgVUYfJ",
        "outputId": "291be611-bee7-4320-f135-6565e528c710"
      },
      "execution_count": 41,
      "outputs": [
        {
          "output_type": "stream",
          "name": "stdout",
          "text": [
            "Model: \"sequential_2\"\n",
            "_________________________________________________________________\n",
            " Layer (type)                Output Shape              Param #   \n",
            "=================================================================\n",
            " flatten_2 (Flatten)         (None, 16254)             0         \n",
            "                                                                 \n",
            " dense_6 (Dense)             (None, 4)                 65020     \n",
            "                                                                 \n",
            " dense_7 (Dense)             (None, 4)                 20        \n",
            "                                                                 \n",
            " dense_8 (Dense)             (None, 1)                 5         \n",
            "                                                                 \n",
            "=================================================================\n",
            "Total params: 65045 (254.08 KB)\n",
            "Trainable params: 65045 (254.08 KB)\n",
            "Non-trainable params: 0 (0.00 Byte)\n",
            "_________________________________________________________________\n"
          ]
        }
      ]
    },
    {
      "cell_type": "code",
      "source": [
        "# Plot the training curves\n",
        "import pandas as pd\n",
        "pd.DataFrame(history_1.history).plot(figsize=(10, 7));"
      ],
      "metadata": {
        "colab": {
          "base_uri": "https://localhost:8080/",
          "height": 599
        },
        "id": "UUpZiIeJUZPZ",
        "outputId": "96aa6a70-40fc-4f58-e964-f4099d7731bf"
      },
      "execution_count": 42,
      "outputs": [
        {
          "output_type": "display_data",
          "data": {
            "text/plain": [
              "<Figure size 1000x700 with 1 Axes>"
            ],
            "image/png": "[encoded data removed]"
          },
          "metadata": {}
        }
      ]
    },
    {
      "cell_type": "code",
      "source": [
        "# Plot the validation and training data separately\n",
        "def plot_loss_curves(history):\n",
        "  \"\"\"\n",
        "  Returns separate loss curves for training and validation metrics.\n",
        "  \"\"\"\n",
        "  loss = history.history['loss']\n",
        "  val_loss = history.history['val_loss']\n",
        "\n",
        "  accuracy = history.history['accuracy']\n",
        "  val_accuracy = history.history['val_accuracy']\n",
        "\n",
        "  epochs = range(len(history.history['loss']))\n",
        "\n",
        "  # Plot loss\n",
        "  plt.plot(epochs, loss, label='training_loss')\n",
        "  plt.plot(epochs, val_loss, label='val_loss')\n",
        "  plt.title('Loss')\n",
        "  plt.xlabel('Epochs')\n",
        "  plt.legend()\n",
        "\n",
        "  # Plot accuracy\n",
        "  plt.figure()\n",
        "  plt.plot(epochs, accuracy, label='training_accuracy')\n",
        "  plt.plot(epochs, val_accuracy, label='val_accuracy')\n",
        "  plt.title('Accuracy')\n",
        "  plt.xlabel('Epochs')\n",
        "  plt.legend();"
      ],
      "metadata": {
        "id": "BEakTYTnUmIc"
      },
      "execution_count": 43,
      "outputs": []
    },
    {
      "cell_type": "code",
      "source": [
        "plot_loss_curves(history_1)"
      ],
      "metadata": {
        "colab": {
          "base_uri": "https://localhost:8080/",
          "height": 927
        },
        "id": "soraYvwlUnNb",
        "outputId": "470a5c32-d346-4208-ef51-7a5146371d05"
      },
      "execution_count": 44,
      "outputs": [
        {
          "output_type": "display_data",
          "data": {
            "text/plain": [
              "<Figure size 640x480 with 1 Axes>"
            ],
            "image/png": "[encoded data removed]"
          },
          "metadata": {}
        },
        {
          "output_type": "display_data",
          "data": {
            "text/plain": [
              "<Figure size 640x480 with 1 Axes>"
            ],
            "image/png": "[encoded data removed]"
          },
          "metadata": {}
        }
      ]
    },
    {
      "cell_type": "code",
      "source": [
        "# Create ImageDataGenerator training instance with data augmentation\n",
        "train_datagen_augmented = ImageDataGenerator(rescale=1/255.,\n",
        "                                             rotation_range=20, # rotate the image slightly between 0 and 20 degrees (note: this is an int not a float)\n",
        "                                             shear_range=0.2, # shear the image\n",
        "                                             zoom_range=0.2, # zoom into the image\n",
        "                                             width_shift_range=0.2, # shift the image width ways\n",
        "                                             height_shift_range=0.2, # shift the image height ways\n",
        "                                             horizontal_flip=True) # flip the image on the horizontal axis\n",
        "\n",
        "# Create ImageDataGenerator training instance without data augmentation\n",
        "train_datagen = ImageDataGenerator(rescale=1/255.)\n",
        "\n",
        "# Create ImageDataGenerator test instance without data augmentation\n",
        "test_datagen = ImageDataGenerator(rescale=1/255.)"
      ],
      "metadata": {
        "id": "JWdFmB9fUz5Z"
      },
      "execution_count": 45,
      "outputs": []
    },
    {
      "cell_type": "code",
      "source": [
        "# Import data and augment it from training directory\n",
        "print(\"Augmented training images:\")\n",
        "train_data_augmented = train_datagen_augmented.flow_from_directory(train_dir,\n",
        "                                                                   target_size=(86, 63),\n",
        "                                                                   batch_size=32,\n",
        "                                                                   class_mode='binary',\n",
        "                                                                   shuffle=True)\n",
        "\n",
        "# Create non-augmented data batches\n",
        "print(\"Non-augmented training images:\")\n",
        "train_data = train_datagen.flow_from_directory(train_dir,\n",
        "                                               target_size=(86, 63),\n",
        "                                               batch_size=32,\n",
        "                                               class_mode='binary',\n",
        "                                               shuffle=True)\n",
        "print(\"Unchanged test images:\")\n",
        "test_data = test_datagen.flow_from_directory(test_dir,\n",
        "                                             target_size=(86, 63),\n",
        "                                             batch_size=32,\n",
        "                                             class_mode='binary')"
      ],
      "metadata": {
        "colab": {
          "base_uri": "https://localhost:8080/"
        },
        "id": "CiYwqoaRU3cK",
        "outputId": "5922e133-b3e0-4c12-fec9-e0d9bd07f57e"
      },
      "execution_count": 50,
      "outputs": [
        {
          "output_type": "stream",
          "name": "stdout",
          "text": [
            "Augmented training images:\n",
            "Found 891 images belonging to 2 classes.\n",
            "Non-augmented training images:\n",
            "Found 891 images belonging to 2 classes.\n",
            "Unchanged test images:\n",
            "Found 299 images belonging to 2 classes.\n"
          ]
        }
      ]
    },
    {
      "cell_type": "code",
      "source": [
        "# Get data batch samples\n",
        "images, labels = train_data.next()\n",
        "augmented_images, augmented_labels = train_data_augmented.next() # Note: labels aren't augmented, they stay the samerandom_number = random.randint(0, 31) # we're making batches of size 32, so we'll get a random instance\n",
        "plt.imshow(images[random_number])\n",
        "plt.title(f\"Original image\")\n",
        "plt.axis(False)\n",
        "plt.figure()\n",
        "plt.imshow(augmented_images[random_number])\n",
        "plt.title(f\"Augmented image\")\n",
        "plt.axis(False);"
      ],
      "metadata": {
        "colab": {
          "base_uri": "https://localhost:8080/",
          "height": 839
        },
        "id": "NsUynmlaU5zY",
        "outputId": "b695a9a6-0b85-490d-bc0b-0b3cb6cf15f2"
      },
      "execution_count": 53,
      "outputs": [
        {
          "output_type": "display_data",
          "data": {
            "text/plain": [
              "<Figure size 640x480 with 1 Axes>"
            ],
            "image/png": "[encoded data removed]"
          },
          "metadata": {}
        },
        {
          "output_type": "display_data",
          "data": {
            "text/plain": [
              "<Figure size 640x480 with 1 Axes>"
            ],
            "image/png": "[encoded data removed]"
          },
          "metadata": {}
        }
      ]
    },
    {
      "cell_type": "code",
      "source": [
        "from tensorflow.keras.optimizers import Adam\n",
        "from tensorflow.keras.layers import Dense, Flatten, Conv2D, MaxPool2D, Activation\n",
        "from tensorflow.keras import Sequential\n",
        "\n",
        "model_2 = Sequential([\n",
        "  Conv2D(10, 3, activation='relu', input_shape=(86, 63, 3)),\n",
        "  MaxPool2D(),\n",
        "  Conv2D(10, 3, activation='relu'),\n",
        "  MaxPool2D(),\n",
        "  Conv2D(10, 3, activation='relu'),\n",
        "  MaxPool2D(),\n",
        "  Flatten(),\n",
        "  Dense(1, activation='sigmoid')\n",
        "])\n",
        "\n",
        "# Compile the model\n",
        "model_2.compile(loss='binary_crossentropy',\n",
        "                optimizer=Adam(),\n",
        "                metrics=['accuracy'])\n",
        "\n",
        "# Fit the model\n",
        "history_2 = model_2.fit(train_data_augmented,\n",
        "                        epochs=10,\n",
        "                        steps_per_epoch=len(train_data_augmented),\n",
        "                        validation_data=test_data,\n",
        "                        validation_steps=len(test_data))"
      ],
      "metadata": {
        "colab": {
          "base_uri": "https://localhost:8080/"
        },
        "id": "9T4b70v5Vkiq",
        "outputId": "427e5398-afba-420c-fe97-b5ac41a1cee1"
      },
      "execution_count": 67,
      "outputs": [
        {
          "output_type": "stream",
          "name": "stdout",
          "text": [
            "Epoch 1/10\n",
            "28/28 [==============================] - 3s 76ms/step - loss: 0.5280 - accuracy: 0.5432 - val_loss: 0.3913 - val_accuracy: 0.9599\n",
            "Epoch 2/10\n",
            "28/28 [==============================] - 2s 72ms/step - loss: 0.3655 - accuracy: 0.9484 - val_loss: 0.3499 - val_accuracy: 0.9732\n",
            "Epoch 3/10\n",
            "28/28 [==============================] - 3s 98ms/step - loss: 0.3381 - accuracy: 0.9899 - val_loss: 0.2883 - val_accuracy: 1.0000\n",
            "Epoch 4/10\n",
            "28/28 [==============================] - 2s 81ms/step - loss: 0.1154 - accuracy: 1.0000 - val_loss: 0.0102 - val_accuracy: 1.0000\n",
            "Epoch 5/10\n",
            "28/28 [==============================] - 2s 72ms/step - loss: 0.0044 - accuracy: 1.0000 - val_loss: 0.0011 - val_accuracy: 1.0000\n",
            "Epoch 6/10\n",
            "28/28 [==============================] - 2s 72ms/step - loss: 0.0014 - accuracy: 1.0000 - val_loss: 8.4693e-04 - val_accuracy: 1.0000\n",
            "Epoch 7/10\n",
            "28/28 [==============================] - 2s 78ms/step - loss: 6.5095e-04 - accuracy: 1.0000 - val_loss: 5.0484e-04 - val_accuracy: 1.0000\n",
            "Epoch 8/10\n",
            "28/28 [==============================] - 2s 86ms/step - loss: 6.4665e-04 - accuracy: 1.0000 - val_loss: 2.9831e-04 - val_accuracy: 1.0000\n",
            "Epoch 9/10\n",
            "28/28 [==============================] - 3s 89ms/step - loss: 4.2522e-04 - accuracy: 1.0000 - val_loss: 3.3980e-04 - val_accuracy: 1.0000\n",
            "Epoch 10/10\n",
            "28/28 [==============================] - 2s 76ms/step - loss: 2.9168e-04 - accuracy: 1.0000 - val_loss: 2.2621e-04 - val_accuracy: 1.0000\n"
          ]
        }
      ]
    },
    {
      "cell_type": "code",
      "source": [
        "# Plot the validation and training data separately\n",
        "def plot_loss_curves(history):\n",
        "  \"\"\"\n",
        "  Returns separate loss curves for training and validation metrics.\n",
        "  \"\"\"\n",
        "  loss = history.history['loss']\n",
        "  val_loss = history.history['val_loss']\n",
        "\n",
        "  accuracy = history.history['accuracy']\n",
        "  val_accuracy = history.history['val_accuracy']\n",
        "\n",
        "  epochs = range(len(history.history['loss']))\n",
        "\n",
        "  # Plot loss\n",
        "  plt.plot(epochs, loss, label='training_loss')\n",
        "  plt.plot(epochs, val_loss, label='val_loss')\n",
        "  plt.title('Loss')\n",
        "  plt.xlabel('Epochs')\n",
        "  plt.legend()\n",
        "\n",
        "  # Plot accuracy\n",
        "  plt.figure()\n",
        "  plt.plot(epochs, accuracy, label='training_accuracy')\n",
        "  plt.plot(epochs, val_accuracy, label='val_accuracy')\n",
        "  plt.title('Accuracy')\n",
        "  plt.xlabel('Epochs')\n",
        "  plt.legend();"
      ],
      "metadata": {
        "id": "eSvBLAsUWCAC"
      },
      "execution_count": 68,
      "outputs": []
    },
    {
      "cell_type": "code",
      "source": [
        "plot_loss_curves(history_2)"
      ],
      "metadata": {
        "colab": {
          "base_uri": "https://localhost:8080/",
          "height": 927
        },
        "id": "uGvONZPiWDKJ",
        "outputId": "d7511f11-a5f1-42b9-f9b3-5d256b95c506"
      },
      "execution_count": 69,
      "outputs": [
        {
          "output_type": "display_data",
          "data": {
            "text/plain": [
              "<Figure size 640x480 with 1 Axes>"
            ],
            "image/png": "[encoded data removed]"
          },
          "metadata": {}
        },
        {
          "output_type": "display_data",
          "data": {
            "text/plain": [
              "<Figure size 640x480 with 1 Axes>"
            ],
            "image/png": "[encoded data removed]"
          },
          "metadata": {}
        }
      ]
    },
    {
      "cell_type": "code",
      "source": [
        "model_2.evaluate(test_data)"
      ],
      "metadata": {
        "colab": {
          "base_uri": "https://localhost:8080/"
        },
        "id": "LWUL2k78WV7w",
        "outputId": "7b6115be-6c70-41a4-b67b-b3936e571091"
      },
      "execution_count": 70,
      "outputs": [
        {
          "output_type": "stream",
          "name": "stdout",
          "text": [
            "10/10 [==============================] - 0s 17ms/step - loss: 2.2621e-04 - accuracy: 1.0000\n"
          ]
        },
        {
          "output_type": "execute_result",
          "data": {
            "text/plain": [
              "[0.00022621422249358147, 1.0]"
            ]
          },
          "metadata": {},
          "execution_count": 70
        }
      ]
    },
    {
      "cell_type": "code",
      "source": [
        "model_2.save('model.h5')"
      ],
      "metadata": {
        "id": "rzatGnnFWzxZ"
      },
      "execution_count": 71,
      "outputs": []
    },
    {
      "cell_type": "code",
      "source": [
        "files.download('model.h5')"
      ],
      "metadata": {
        "colab": {
          "base_uri": "https://localhost:8080/",
          "height": 17
        },
        "id": "6X4Ol1HwW9JR",
        "outputId": "15279aad-c4a7-4092-9e95-4e925cc8644e"
      },
      "execution_count": 72,
      "outputs": [
        {
          "output_type": "display_data",
          "data": {
            "text/plain": [
              "<IPython.core.display.Javascript object>"
            ],
            "application/javascript": [
              "\n",
              "    async function download(id, filename, size) {\n",
              "      if (!google.colab.kernel.accessAllowed) {\n",
              "        return;\n",
              "      }\n",
              "      const div = document.createElement('div');\n",
              "      const label = document.createElement('label');\n",
              "      label.textContent = `Downloading \"${filename}\": `;\n",
              "      div.appendChild(label);\n",
              "      const progress = document.createElement('progress');\n",
              "      progress.max = size;\n",
              "      div.appendChild(progress);\n",
              "      document.body.appendChild(div);\n",
              "\n",
              "      const buffers = [];\n",
              "      let downloaded = 0;\n",
              "\n",
              "      const channel = await google.colab.kernel.comms.open(id);\n",
              "      // Send a message to notify the kernel that we're ready.\n",
              "      channel.send({})\n",
              "\n",
              "      for await (const message of channel.messages) {\n",
              "        // Send a message to notify the kernel that we're ready.\n",
              "        channel.send({})\n",
              "        if (message.buffers) {\n",
              "          for (const buffer of message.buffers) {\n",
              "            buffers.push(buffer);\n",
              "            downloaded += buffer.byteLength;\n",
              "            progress.value = downloaded;\n",
              "          }\n",
              "        }\n",
              "      }\n",
              "      const blob = new Blob(buffers, {type: 'application/binary'});\n",
              "      const a = document.createElement('a');\n",
              "      a.href = window.URL.createObjectURL(blob);\n",
              "      a.download = filename;\n",
              "      div.appendChild(a);\n",
              "      a.click();\n",
              "      div.remove();\n",
              "    }\n",
              "  "
            ]
          },
          "metadata": {}
        },
        {
          "output_type": "display_data",
          "data": {
            "text/plain": [
              "<IPython.core.display.Javascript object>"
            ],
            "application/javascript": [
              "download(\"download_7b8efad5-05fc-4438-bea6-0d6679a7292c\", \"model.h5\", 78408)"
            ]
          },
          "metadata": {}
        }
      ]
    },
    {
      "cell_type": "code",
      "source": [],
      "metadata": {
        "id": "nt-8MCSdW_GV"
      },
      "execution_count": 72,
      "outputs": []
    }
  ]
}
